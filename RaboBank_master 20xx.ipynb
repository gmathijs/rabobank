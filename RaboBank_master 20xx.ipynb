{
 "cells": [
  {
   "cell_type": "markdown",
   "id": "cd397ca5",
   "metadata": {},
   "source": [
    "# Rabobank Import CSV"
   ]
  },
  {
   "cell_type": "markdown",
   "id": "4cd77722",
   "metadata": {},
   "source": [
    "### Beschrijving\n",
    "Dit is een universele file om grootboek en kleinboek codes alvast op maandbasis toe te voegen.\n",
    "Kan worden gebruikt voor een geheel jaar of in de loop van een jaar\n",
    "Inlezen van een of meerdere csv file van de Rabobank.\n",
    "\n",
    "Manueel:\n",
    "Toevoegen van de juiste grootboek codes\n",
    "Toevoegen jaar en maand\n",
    "Verwijderen van kolommen die je toch niet nodig hebt\n",
    "Hernoemen van de kolommen naar iets begerijpelijks\n",
    "Creatie van uitvoer files voor verdere verwerking\n",
    "\n",
    "#### Randvoorwaarde:\n",
    "Deze file gaat uit dat aan ieder volgnummer geen grootboek categorie is toegevoegd.\n",
    "Het originele CSV bestand van de rabobank blijft onaangetast\n",
    "\n",
    "### benodigde bestanden\n",
    "- csv download files van de rabobank met alle rekeningen over een periode bijvoorbeeld maandper maand. deze files starten met CSV_A of CSV_CC stop die in een onderliggend directorie van het jaartal bijvoorbeeld \\2023 \n",
    "-       Meerdere csv bestanden zijn mogelijk, duplicaten worden eruit gegooid\n",
    "\n",
    "#### Bestanden zelf maken uitbreiden (beknopte voorbeelden in template directory) deze diene in het bovenste directory te worden geplaats.\n",
    "accountnumbers.csv\n",
    "grootboeklijst.csv\n",
    "mapdecription-mappingtabel\n",
    "maptegenpartij-maptegenpartij.csv\n",
    "\n",
    "\n"
   ]
  },
  {
   "cell_type": "code",
   "execution_count": null,
   "id": "66d4de75",
   "metadata": {},
   "outputs": [],
   "source": [
    "import pandas as pd\n",
    "import os\n",
    "import glob\n",
    "import plotly.express as px\n",
    "import numpy as np\n",
    "from pathlib import Path"
   ]
  },
  {
   "cell_type": "code",
   "execution_count": null,
   "id": "52fc7db3",
   "metadata": {},
   "outputs": [],
   "source": [
    "current_path = os.getcwd()"
   ]
  },
  {
   "cell_type": "markdown",
   "id": "ff37407e",
   "metadata": {},
   "source": [
    "### Definitie Jaartal"
   ]
  },
  {
   "cell_type": "code",
   "execution_count": null,
   "id": "0558dd34",
   "metadata": {},
   "outputs": [],
   "source": [
    "# Deze variable stuurt voor welk jaartal er gekozen wordt.\n",
    "jaar = 2023\n",
    "jaar = str(jaar)"
   ]
  },
  {
   "cell_type": "code",
   "execution_count": null,
   "id": "3394182e",
   "metadata": {},
   "outputs": [],
   "source": [
    "\n",
    "# Deze files zijn jaartal specifiek volgnummers en uitvoer\n",
    "# De benaming is standaard als je download van de rabobank app\n",
    "inVolgFile = \"rabobank/\" + jaar + \"/volgnr_RABO\" + jaar + \".csv\"    #\"rabobank/yyyy/volgnr_RABOxxxx.csv\"\n",
    "uitCSVFile = \"rabobank/\" + jaar + \"/OUT_RABO\" + jaar + \".csv\"\n",
    "Uitvoerfile =\"rabobank/\" + jaar + \"/OUT_RABO\" + jaar + \"_final.xlsx\"\n",
    "UitvoerfilePartial  =\"rabobank/\" + jaar + \"/OUT_RABO\" + jaar + \"_partial.xlsx\"\n",
    "uitDebugFile = \"rabobank/\" + jaar + \"/nog_volgnummer_nodig_RABO\" + jaar + \".csv\"\n",
    "UitTMP = \"rabobank/\" + jaar + \"/temporary\" + jaar + \".csv\"\n",
    "\n",
    "OutputDir = \"rabobank/\" + jaar + \"/\"\n",
    "DebugDir = \"rabobank/\" + jaar + \"/\"\n",
    "CompletedFile = OutputDir + \"volgnr.completed\"\n",
    "\n",
    "#Mapping tabellen zijn universeel mapping tabellen en grootboek codes.\n",
    "# Prioriteit 1: volgnr_Rabo 2: Description 3: Tegenpartij\n",
    "mappingdescription=\"rabobank/mapdescription-mappingtabel.csv\"\n",
    "maptegenpartij= \"rabobank/maptegenpartij-maptegenpartij.csv\"\n",
    "grootboek=\"rabobank/grootboeklijst.csv\"\n",
    "accountnumbers = \"rabobank/accountnumbers.csv\"\n"
   ]
  },
  {
   "cell_type": "code",
   "execution_count": null,
   "id": "8cc1341d",
   "metadata": {},
   "outputs": [],
   "source": [
    "# Overbodige files alvast weggooien\n",
    "if os.path.exists(UitTMP):\n",
    "    os.remove(UitTMP)\n",
    "\n",
    "if os.path.exists(uitDebugFile):\n",
    "    os.remove(uitDebugFile)\n",
    "\n",
    "if os.path.exists(UitvoerfilePartial):\n",
    "    os.remove(UitvoerfilePartial)\n",
    "\n",
    "\n",
    "if os.path.exists(CompletedFile):\n",
    "    os.remove(CompletedFile)    "
   ]
  },
  {
   "cell_type": "markdown",
   "id": "e04f2d99",
   "metadata": {},
   "source": [
    "### Inlezen en duplicaten weggooien\n"
   ]
  },
  {
   "cell_type": "code",
   "execution_count": null,
   "id": "d627fd9e",
   "metadata": {},
   "outputs": [],
   "source": [
    "# Verkrijg het directory van de jupyter file.\n",
    "path = current_path + \"/rabobank/\" + jaar + \"/invoer\"\n",
    "os.chdir(path)\n",
    "\n",
    "#Verzamel alle csv files die daarin worden gedumpt. Ze moeten beginnen met CSV_A voor de standaard rekeningen\n",
    "all_filenames = [i for i in glob.glob(\"CSV_A*.csv\")]\n",
    "all_creditcardfiles = [i for i in glob.glob(\"CSV_CC*.csv\")]"
   ]
  },
  {
   "cell_type": "code",
   "execution_count": null,
   "id": "8601812d",
   "metadata": {},
   "outputs": [],
   "source": [
    "# Read in all RaboBank jaar csv Files from  subfolder rabobank the csv files stay untouched.\n",
    "parts=[]\n",
    "for f in all_filenames: \n",
    "    part=pd.read_csv(f, encoding = 'unicode_escape',\n",
    "                        decimal=\",\" ,parse_dates=[\"Datum\",\"Rentedatum\"])\n",
    "    # Check number of columns\n",
    "    # Getting shape of the df\n",
    "    shape = part.shape\n",
    "    # Printing Number of columns\n",
    "    nKolom = shape[1]\n",
    "\n",
    "    if nKolom == 26 :\n",
    "        parts.append(part)\n",
    "        "
   ]
  },
  {
   "cell_type": "code",
   "execution_count": null,
   "id": "e95f3cd0",
   "metadata": {},
   "outputs": [],
   "source": [
    "# Read in all creditcard csv Files from subfolder rabobank the csv files stay untouched.\n",
    "cards=[]\n",
    "for f in all_creditcardfiles: \n",
    "    card=pd.read_csv(f, encoding = 'unicode_escape',decimal = \",\" ,parse_dates= [\"Datum\"])\n",
    "    # Check number of columns\n",
    "    # Getting shape of the df\n",
    "    shape = card.shape\n",
    "    # Printing Number of columns\n",
    "    nKolom = shape[1]\n",
    "\n",
    "\n",
    "cards.append(card)\n",
    "dfCC = pd.concat(parts)"
   ]
  },
  {
   "cell_type": "code",
   "execution_count": null,
   "id": "4b60d3d8",
   "metadata": {},
   "outputs": [],
   "source": [
    "# Pad weer terug zetten\n",
    "path = current_path\n",
    "os.chdir(path)"
   ]
  },
  {
   "cell_type": "code",
   "execution_count": null,
   "id": "2d6cc0d6",
   "metadata": {},
   "outputs": [],
   "source": [
    "# Combine the Dataframes from each file into a single Dataframe\n",
    "# pandas takes care of properly aligning the columns\n",
    "dfIn = pd.concat(parts)"
   ]
  },
  {
   "cell_type": "markdown",
   "id": "11a6e724",
   "metadata": {},
   "source": [
    "### Duplicaten verwijderen\n"
   ]
  },
  {
   "cell_type": "code",
   "execution_count": null,
   "id": "13d6f9dc",
   "metadata": {},
   "outputs": [],
   "source": [
    "\n",
    "dfIn=dfIn.drop_duplicates(subset=None, keep=\"first\", inplace=False)"
   ]
  },
  {
   "cell_type": "code",
   "execution_count": null,
   "id": "95651d91",
   "metadata": {},
   "outputs": [],
   "source": [
    "lengte_in = len(dfIn)"
   ]
  },
  {
   "cell_type": "code",
   "execution_count": null,
   "id": "b548d7f5",
   "metadata": {},
   "outputs": [],
   "source": [
    "dfIn"
   ]
  },
  {
   "cell_type": "markdown",
   "id": "4514294d",
   "metadata": {},
   "source": [
    "### Kolommen toevoegen en bewerken"
   ]
  },
  {
   "cell_type": "code",
   "execution_count": null,
   "id": "5d8f9a9f",
   "metadata": {},
   "outputs": [],
   "source": [
    "#Toevoegen van maand en jaar\n",
    "dfIn['year'] = pd.DatetimeIndex(dfIn['Datum']).year                                   \n",
    "dfIn['month'] = pd.DatetimeIndex(dfIn['Datum']).month"
   ]
  },
  {
   "cell_type": "code",
   "execution_count": null,
   "id": "874c62a8",
   "metadata": {},
   "outputs": [],
   "source": [
    "# Ik wil alleen de gegevens van jaar zien\n",
    "\n",
    "dfIn= dfIn.loc[ (dfIn['year'] == int(jaar)) ]\n"
   ]
  },
  {
   "cell_type": "code",
   "execution_count": null,
   "id": "f9b9f332",
   "metadata": {},
   "outputs": [],
   "source": [
    "# Kolommen weggooien\n",
    "dfIn = dfIn.drop(['Omschrijving-2','Omschrijving-3','Reden retour','Oorspr bedrag',\n",
    "                  'Oorspr munt','Batch ID'], axis=1)\n"
   ]
  },
  {
   "cell_type": "code",
   "execution_count": null,
   "id": "328198b0",
   "metadata": {},
   "outputs": [],
   "source": [
    "#Kolommen hernoemen\n",
    "dfIn.rename(columns={'IBAN/BBAN':'account','Omschrijving-1':'description',\n",
    "                      'Tegenrekening IBAN/BBAN':'tegenrekening','Bedrag':'amount',\n",
    "                     'Saldo na trn':'balance'\n",
    "                    }, inplace = True)"
   ]
  },
  {
   "cell_type": "code",
   "execution_count": null,
   "id": "4aa131c5",
   "metadata": {},
   "outputs": [],
   "source": [
    "### Filter creditcard afrekeningen eruit. Die worden separaat weer toegevoegd opgesplitst naar krediteur\n",
    "\n",
    "#dfIn['description'] = dfIn['description'].astype('string')\n",
    "#filter1='Kaartnummer: ****.****.****.9028   Zie rekeningoverzicht'\n",
    "filter1='Zie rekeningoverzicht'\n",
    "dfIn = dfIn.loc[~dfIn['description'].str.contains(filter1)]\n"
   ]
  },
  {
   "cell_type": "markdown",
   "id": "4891f96b",
   "metadata": {},
   "source": [
    "## Processing CreditCard File\n"
   ]
  },
  {
   "cell_type": "code",
   "execution_count": null,
   "id": "ce0a229d",
   "metadata": {},
   "outputs": [],
   "source": [
    "dfCC=dfCC.drop_duplicates(subset=None, keep=\"first\", inplace=False)"
   ]
  },
  {
   "cell_type": "code",
   "execution_count": null,
   "id": "905f1b84",
   "metadata": {},
   "outputs": [],
   "source": [
    "dfCC = pd.concat(cards)\n",
    "dfCC=dfCC.drop_duplicates(subset=None, keep=\"first\", inplace=False)"
   ]
  },
  {
   "cell_type": "code",
   "execution_count": null,
   "id": "5d13aaba",
   "metadata": {},
   "outputs": [],
   "source": [
    "# Kolommen weggooien\n",
    "dfCC = dfCC.drop(['Creditcard Regel1','Creditcard Regel2','Oorspr bedrag','Oorspr munt','Oorspr bedrag','Koers'], axis=1)"
   ]
  },
  {
   "cell_type": "code",
   "execution_count": null,
   "id": "01b976f6",
   "metadata": {},
   "outputs": [],
   "source": [
    "#Kolommen hernoemen\n",
    "dfCC.rename(columns={'Omschrijving':'description','Bedrag':'amount','Productnaam':'Naam tegenpartij',\n",
    "                     'Tegenrekening IBAN':'account','Creditcard Nummer':'tegenrekening'}, inplace = True)"
   ]
  },
  {
   "cell_type": "code",
   "execution_count": null,
   "id": "f458ec95",
   "metadata": {},
   "outputs": [],
   "source": [
    "#Toevoegen van maand en jaar\n",
    "dfCC['year'] = pd.DatetimeIndex(dfCC['Datum']).year                                   \n",
    "dfCC['month'] = pd.DatetimeIndex(dfCC['Datum']).month\n",
    "\n",
    "#Filter op het aangegeven jaar\n",
    "dfCC= dfCC.loc[ (dfCC['year'] == int(jaar)) ]"
   ]
  },
  {
   "cell_type": "code",
   "execution_count": null,
   "id": "c60d8d7a",
   "metadata": {},
   "outputs": [],
   "source": [
    "### Filter \"Verrekening vorig overzicht\" in kolom description uit de file want dat voegt niks toe.\n",
    "dfCC = dfCC.loc[dfCC['description'] != 'Verrekening vorig overzicht']\n",
    "\n",
    "#****.9028   Zie rekeningoverzicht "
   ]
  },
  {
   "cell_type": "code",
   "execution_count": null,
   "id": "022d217e",
   "metadata": {},
   "outputs": [],
   "source": [
    "### Creditcard en bank overzichten samenvoegen\n",
    "\n",
    "frames = [dfIn, dfCC]\n",
    "dfIn = pd.concat(frames)\n"
   ]
  },
  {
   "cell_type": "code",
   "execution_count": null,
   "id": "6397325f",
   "metadata": {},
   "outputs": [],
   "source": []
  },
  {
   "cell_type": "code",
   "execution_count": null,
   "id": "c667d434",
   "metadata": {},
   "outputs": [],
   "source": [
    "#dfCC.to_csv(UitTMP)"
   ]
  },
  {
   "cell_type": "markdown",
   "id": "bdcd2599",
   "metadata": {},
   "source": [
    "## Koppelen aan Grootboek/Kleinboek categorieen \n",
    "### Mapping tabellen laden\n",
    "\n"
   ]
  },
  {
   "cell_type": "code",
   "execution_count": null,
   "id": "b3aa6eb4",
   "metadata": {},
   "outputs": [],
   "source": [
    "#Mapping table: sleutel(str) code(A1 etc)\n",
    "dfMapDescription = pd.read_csv(mappingdescription)\n",
    "# Mapping table: tegenpartij (str)  code(A1 etc)\n",
    "dfMapTegenPartij = pd.read_csv(maptegenpartij)\n",
    "# Er zitten wat floats tussen in de hoofdfile tussen die geef ik even een string waarde\n",
    "dfIn[\"Naam tegenpartij\"].fillna(\"leeg\", inplace = True)"
   ]
  },
  {
   "cell_type": "code",
   "execution_count": null,
   "id": "28039dd4",
   "metadata": {},
   "outputs": [],
   "source": [
    "dfGrootboek = pd.read_csv(grootboek)\n",
    "dfGrootboek.rename(columns={'Code':'category'}, inplace = True)"
   ]
  },
  {
   "cell_type": "markdown",
   "id": "c3fdd500",
   "metadata": {},
   "source": [
    "#### Mapping description"
   ]
  },
  {
   "cell_type": "code",
   "execution_count": null,
   "id": "acb4803f",
   "metadata": {},
   "outputs": [],
   "source": [
    "map_code = pd.Series(dfMapDescription.code.values ,index=dfMapDescription.sleutel).to_dict()"
   ]
  },
  {
   "cell_type": "code",
   "execution_count": null,
   "id": "c52acb7e",
   "metadata": {},
   "outputs": [],
   "source": [
    "# De magic function van stack overflow geeft een waarde of \"--\"\n",
    "\n",
    "def extract_codes(row):\n",
    "    # row is description\n",
    "    for item in map_code:\n",
    "        if item.lower() in row.lower():\n",
    "            return map_code[item]\n",
    "    return '--'"
   ]
  },
  {
   "cell_type": "code",
   "execution_count": null,
   "id": "ca25c703",
   "metadata": {},
   "outputs": [],
   "source": [
    "#Apply function on column description and add a column\n",
    "dfIn['category'] = dfIn['description'].apply(extract_codes)"
   ]
  },
  {
   "cell_type": "markdown",
   "id": "ed3788e7",
   "metadata": {},
   "source": [
    "### Mapping tegenpartij\n",
    "#### functie kan zo worden hergebruikt voor de tegenpartij\n",
    "\n",
    "\n"
   ]
  },
  {
   "cell_type": "code",
   "execution_count": null,
   "id": "34d560bd",
   "metadata": {},
   "outputs": [],
   "source": [
    "map_code = pd.Series(dfMapTegenPartij.code.values ,index=dfMapTegenPartij.tegenpartij).to_dict()\n",
    "#Apply function on column description and add a column\n",
    "dfIn['category2'] = dfIn['Naam tegenpartij'].apply(extract_codes)\n",
    "dfIn.info()"
   ]
  },
  {
   "cell_type": "markdown",
   "id": "1b6a2136",
   "metadata": {},
   "source": [
    "#### Er zijn nu wel twee category kolommen"
   ]
  },
  {
   "cell_type": "code",
   "execution_count": null,
   "id": "3a44223e",
   "metadata": {},
   "outputs": [],
   "source": [
    "# Let op dat de getallen 22 en 23 kolommen zijn nl categorie en categorie2 \n",
    "# Daarbij is de mapping op description (categorie) leidend alleen als de mapping op tegenpartij iets oplevert wordt die waarde \n",
    "# toegekend aan de nieuwe kolom 'cat' \n",
    "\n",
    "def func(x):\n",
    "    if x.iloc[23] != '--':\n",
    "        return x.iloc[23]\n",
    "    return x.iloc[22]"
   ]
  },
  {
   "cell_type": "code",
   "execution_count": null,
   "id": "5c40ee34",
   "metadata": {},
   "outputs": [],
   "source": [
    "dfIn['cat'] = dfIn.apply(func,axis=1)"
   ]
  },
  {
   "cell_type": "code",
   "execution_count": null,
   "id": "c78154c2",
   "metadata": {},
   "outputs": [],
   "source": [
    "dfIn.pop('category')\n",
    "dfIn.pop('category2')\n",
    "# Rename the newly made category\n",
    "dfIn.rename(columns={'cat':'category'}, inplace = True)"
   ]
  },
  {
   "cell_type": "markdown",
   "id": "6d2e444a",
   "metadata": {},
   "source": [
    "### Volg nummer file inlezen en koppelen aan de rabo csv"
   ]
  },
  {
   "cell_type": "code",
   "execution_count": null,
   "id": "c7c8f535",
   "metadata": {},
   "outputs": [],
   "source": [
    "file_exists = os.path.exists(inVolgFile)"
   ]
  },
  {
   "cell_type": "code",
   "execution_count": null,
   "id": "6ecfaaea",
   "metadata": {},
   "outputs": [],
   "source": [
    "# Inlezen volgnummer file als de file niet betstaat maak een dataframe \n",
    "if file_exists:\n",
    "    dfVolg=pd.read_csv(inVolgFile,encoding = 'unicode_escape')\n",
    "    len(dfVolg)\n",
    "    dfVolg=dfVolg.drop_duplicates(subset=['Volgnr'], keep=\"first\", inplace=False)\n",
    "    len(dfVolg)\n",
    "else:\n",
    "    # Create empty the pandas DataFrame\n",
    "    dfVolg = pd.DataFrame(columns = ['Dummy', 'Volgnr', 'category'])\n"
   ]
  },
  {
   "cell_type": "code",
   "execution_count": null,
   "id": "baa3f934",
   "metadata": {},
   "outputs": [],
   "source": [
    "lengte_volgnr = len(dfVolg)"
   ]
  },
  {
   "cell_type": "code",
   "execution_count": null,
   "id": "70d0cb5f",
   "metadata": {},
   "outputs": [],
   "source": [
    "dfVolg.info()"
   ]
  },
  {
   "cell_type": "code",
   "execution_count": null,
   "id": "37678b0d",
   "metadata": {},
   "outputs": [],
   "source": [
    "#Eerste is een overbodige kolom die gooi ik weg\n",
    "dfVolg = dfVolg.drop(dfVolg.columns[[0]], axis=1)  \n"
   ]
  },
  {
   "cell_type": "markdown",
   "id": "1c1656aa",
   "metadata": {},
   "source": [
    "### Een merge uitvoeren om de volgnummer file te koppelen aan de hoofdfile "
   ]
  },
  {
   "cell_type": "code",
   "execution_count": null,
   "id": "a1abafdf",
   "metadata": {},
   "outputs": [],
   "source": [
    "#dfIn.loc"
   ]
  },
  {
   "cell_type": "code",
   "execution_count": null,
   "id": "cb6f3b83",
   "metadata": {},
   "outputs": [],
   "source": [
    "dfIn=dfIn.merge(dfVolg, how=\"left\", on=\"Volgnr\")"
   ]
  },
  {
   "cell_type": "markdown",
   "id": "e83c5ce8",
   "metadata": {},
   "source": [
    "### De volgnummer file is leidend als het goed is zijn er nu twee category kolommen aangemaakt\n",
    "category_x (22) is gebaseerd op de mapping tabellen die zijn niet perfect\n",
    "category_y (23) is gebaseerd op de volgnummer file die is goed maar het kan zijn dat er sommigen nog niet benoemd '--' of leeg zijn zijn.\n",
    "\n"
   ]
  },
  {
   "cell_type": "code",
   "execution_count": null,
   "id": "6a29b56b",
   "metadata": {},
   "outputs": [],
   "source": [
    "#dfIn.to_csv(DebugDir+\"0.csv\")\n"
   ]
  },
  {
   "cell_type": "code",
   "execution_count": null,
   "id": "36cfde66",
   "metadata": {},
   "outputs": [],
   "source": [
    "def funcswitch(x):\n",
    "    #if (pd.isnull(x[23])):\n",
    "    if (pd.isnull(x.iloc[23])) | (x.iloc[23] == '--'):        \n",
    "        return x.iloc[22]\n",
    "    return x.iloc[23]"
   ]
  },
  {
   "cell_type": "code",
   "execution_count": null,
   "id": "85354783",
   "metadata": {},
   "outputs": [],
   "source": [
    "# Convert category_y en _X to string type to avoid errors in the funtion\n",
    "dfIn['category_x'] = dfIn['category_x'].astype('string')\n",
    "dfIn['category_y'] = dfIn['category_y'].astype('string')\n",
    "dfIn.info()"
   ]
  },
  {
   "cell_type": "code",
   "execution_count": null,
   "id": "d0e7cfcf",
   "metadata": {},
   "outputs": [],
   "source": [
    "# The new column is called cat when it has a value from the mapping it will be  preceeded with \"_\"\n",
    "# otherwise it gets the value from the volgnumber file\n",
    "dfIn['cat'] = dfIn.apply(funcswitch,axis=1)\n",
    "\n"
   ]
  },
  {
   "cell_type": "markdown",
   "id": "161c1edb",
   "metadata": {},
   "source": [
    "#### En weer heb ik twee category kolommen"
   ]
  },
  {
   "cell_type": "code",
   "execution_count": null,
   "id": "927ea82f",
   "metadata": {},
   "outputs": [],
   "source": [
    "# delete the category columns they are superfluous now \n",
    "dfIn.pop('category_x')\n",
    "dfIn.pop('category_y')\n",
    "# Rename the newly made category\n",
    "dfIn.rename(columns={'cat':'category'}, inplace = True)\n"
   ]
  },
  {
   "cell_type": "markdown",
   "id": "523a2b6c",
   "metadata": {},
   "source": [
    "### Geldstromen (Cashflows) toevoegen\n",
    "\n"
   ]
  },
  {
   "cell_type": "markdown",
   "id": "d932c252",
   "metadata": {},
   "source": [
    "### Maak een selectie van de geldstromen\n",
    "Please make sure you fill the CSV accountnumbers.csv \n",
    "- Category 1 are the account which you pay with   (betaal rekeningen)\n",
    "- Category 2 are the account for savings money going out or in through category 1 (Spaarrekeningen)\n",
    "- Category 3 are the account for brokers  money going out or in through category 1 (Beleggingsrekeningen)\n",
    "\n",
    "Category 1+2 are all bankaccounts (also the ones outside the rabobank)\n"
   ]
  },
  {
   "cell_type": "markdown",
   "id": "3c8d77fd",
   "metadata": {},
   "source": []
  },
  {
   "cell_type": "markdown",
   "id": "93212120",
   "metadata": {},
   "source": [
    "#### Maak een lijsten van alle rekeningen en geef er een specifieke naam aan¶"
   ]
  },
  {
   "cell_type": "code",
   "execution_count": null,
   "id": "17b4d0e2",
   "metadata": {},
   "outputs": [],
   "source": [
    "#Mapping table: sleutel(str) code(A1 etc)\n",
    "dfAccountnumbers = pd.read_csv(accountnumbers)\n",
    "\n",
    "dfBetaalRekeningen = dfAccountnumbers.loc[dfAccountnumbers['category'] == 1 ]\n",
    "BetaalRekeningen = dfBetaalRekeningen['accountno'].to_list()\n",
    "\n",
    "dfSpaarRekeningen = dfAccountnumbers.loc[dfAccountnumbers['category'] == 2]\n",
    "SpaarRekeningen = dfSpaarRekeningen['accountno'].to_list()\n",
    "\n",
    "dfBeleggingsRekeningen = dfAccountnumbers.loc[dfAccountnumbers['category'] == 3 ]\n",
    "BeleggingsRekeningen = dfBeleggingsRekeningen['accountno'].to_list()\n",
    "\n",
    "Eigen_rekeningen = BetaalRekeningen + SpaarRekeningen\n",
    "BeleggingsRekeningen"
   ]
  },
  {
   "cell_type": "markdown",
   "id": "36a28df2",
   "metadata": {},
   "source": [
    "#### Maak een list van de te benoemen cashflowcodes"
   ]
  },
  {
   "cell_type": "code",
   "execution_count": null,
   "id": "9e6be260",
   "metadata": {},
   "outputs": [],
   "source": [
    "#Cashflow codes let op de index begint bij 0 vandaar de dummy op nul\n",
    "cashflow= ['','1-Inkomsten','2-Uitgaven',\n",
    "           '3-Sparen', '4-Sparen opname',\n",
    "           '5-Beleggen','6-Beleggen opname',\n",
    "           \"7-vestzak-broekzak\"]"
   ]
  },
  {
   "cell_type": "code",
   "execution_count": null,
   "id": "0a178e0b",
   "metadata": {},
   "outputs": [],
   "source": [
    "# Voeg te vullen kolom toe met een herkenbare default code\n",
    "dfIn['cashflow']=\"-\""
   ]
  },
  {
   "cell_type": "markdown",
   "id": "9d681193",
   "metadata": {},
   "source": [
    "### 1 Hoofrekeningen (Beleggingen gaan alle vanaf hoofdrekening)¶"
   ]
  },
  {
   "cell_type": "markdown",
   "id": "491b568d",
   "metadata": {},
   "source": [
    "#### 2-Uitgaven"
   ]
  },
  {
   "cell_type": "code",
   "execution_count": null,
   "id": "6ee5c376",
   "metadata": {},
   "outputs": [],
   "source": [
    "# Alles wat afgeboekt wordt (<€0) van betaal rekeningen naar alles behalve eigen rekeningen zijn uitgaven\n",
    "# Sparen en beleggen zit hier bij in maar wordt in een tweede slag afgevangen\n",
    "dfIn.loc[(dfIn['account'].isin(Eigen_rekeningen)) &  \n",
    "         (~dfIn['tegenrekening'].isin(Eigen_rekeningen)) &\n",
    "         (dfIn['amount'] < 0),'cashflow']=cashflow[2]"
   ]
  },
  {
   "cell_type": "markdown",
   "id": "580b6a11",
   "metadata": {},
   "source": [
    "#### 1-Inkomsten"
   ]
  },
  {
   "cell_type": "code",
   "execution_count": null,
   "id": "899d5d0a",
   "metadata": {},
   "outputs": [],
   "source": [
    "# Alles wat op de eigen rekeningen komt van alles behalve eigen rekeningen zijn inkomsten\n",
    "# Sparen en beleggen zit hier bij in. Maar worden in stap 2 separaat afgevangen\n",
    "dfIn.loc[(dfIn['account'].isin(Eigen_rekeningen)) & \n",
    "         (~dfIn['tegenrekening'].isin(Eigen_rekeningen)) &\n",
    "         (dfIn['amount'] > 0),'cashflow']=cashflow[1]"
   ]
  },
  {
   "cell_type": "markdown",
   "id": "8c121637",
   "metadata": {},
   "source": [
    "#### 7-Vestzak-broekzak"
   ]
  },
  {
   "cell_type": "code",
   "execution_count": null,
   "id": "994adf4b",
   "metadata": {},
   "outputs": [],
   "source": [
    "# Alles wat van en naar eigen rekeningen wordt overgeboekt is vestzak-broekzak \n",
    "# cq dubbel eigenlijk kan dit eruit\n",
    "# Sparen en beleggen zit hier bij in. Maar worden in stap 2 separaat afgevangen\n",
    "dfIn.loc[(dfIn['account'].isin(Eigen_rekeningen)) &  \n",
    "         (dfIn['tegenrekening'].isin(Eigen_rekeningen)),\n",
    "         'cashflow']=cashflow[7]"
   ]
  },
  {
   "cell_type": "markdown",
   "id": "2f8be5d7",
   "metadata": {},
   "source": [
    "### 2. SpaarRekeningen; Sparen of Spaargeld Opnemen ?  "
   ]
  },
  {
   "cell_type": "markdown",
   "id": "a76a8c85",
   "metadata": {},
   "source": [
    "#### 3-Sparen"
   ]
  },
  {
   "cell_type": "code",
   "execution_count": null,
   "id": "af7acf76",
   "metadata": {},
   "outputs": [],
   "source": [
    "#Afgeschreven (Bedrag<0) van Betaal Rekeningen gestort op spaar rekeningen noem ik 'Sparen'\n",
    "#             (Bedrag>0) van spaar Rekeningen gestort op betaal rekeningen noem ik 'vestzak broekzak'\n",
    "dfIn.loc[(dfIn['amount'] < 0) & (dfIn['account'].isin(BetaalRekeningen)) &\n",
    "         (dfIn['tegenrekening'].isin(SpaarRekeningen)),'cashflow']=cashflow[3]"
   ]
  },
  {
   "cell_type": "markdown",
   "id": "21e42931",
   "metadata": {},
   "source": [
    "#### 4-Sparen Opname"
   ]
  },
  {
   "cell_type": "code",
   "execution_count": null,
   "id": "2c45904e",
   "metadata": {},
   "outputs": [],
   "source": [
    "#Uitgekeerde (Bedrag>0) op Betaal Rekeningen afkomstig  van de spaar rekeningen noem ik 'Sparen Opnemen'\n",
    "#            (Bedrag<0) van spaar Rekeningen  op betaal rekeningen noem ik 'vestzak broekzak'\n",
    "dfIn.loc[(dfIn['amount'] > 0) & (dfIn['account'].isin(BetaalRekeningen))  & \n",
    "         (dfIn['tegenrekening'].isin(SpaarRekeningen)),'cashflow']=cashflow[4]"
   ]
  },
  {
   "cell_type": "markdown",
   "id": "96e83366",
   "metadata": {},
   "source": [
    "### 3. BeleggingsRekeningen: Beleggingen gaan alle (heen en terug) vanaf BetaalRekeningen "
   ]
  },
  {
   "cell_type": "markdown",
   "id": "87b1ca9e",
   "metadata": {},
   "source": [
    "#### 5-Beleggen"
   ]
  },
  {
   "cell_type": "code",
   "execution_count": null,
   "id": "92698c2d",
   "metadata": {},
   "outputs": [],
   "source": [
    "# Bedragen die van de betaal rekeningen worden afgeschreven en naar de beleggings berekeningen \n",
    "# gaan zijn: \n",
    "# Beleggen\n",
    "dfIn.loc[(dfIn['amount'] < 0) & (dfIn['account'].isin(BetaalRekeningen)) &\n",
    "         (dfIn['tegenrekening'].isin(BeleggingsRekeningen)),'cashflow']=cashflow[5]"
   ]
  },
  {
   "cell_type": "markdown",
   "id": "69726e7e",
   "metadata": {},
   "source": [
    "#### 6-Beleggen Opname"
   ]
  },
  {
   "cell_type": "code",
   "execution_count": null,
   "id": "b05a5ec0",
   "metadata": {},
   "outputs": [],
   "source": [
    "# Bedragen die op de betaalrekeningen worden bijgeschreven en afkomstig zijn van de beleggings berekeningen \n",
    "# gaan zijn beleggingsgeld wat wordt opgenomen naar actieve rekening\n",
    "# Beleggen Opname\n",
    "dfIn.loc[(dfIn['amount'] > 0) & (dfIn['account'].isin(BetaalRekeningen)) &\n",
    "         (dfIn['tegenrekening'].isin(BeleggingsRekeningen)),'cashflow']=cashflow[6]"
   ]
  },
  {
   "cell_type": "markdown",
   "id": "63d5ce8f",
   "metadata": {},
   "source": [
    "### De grootboek codes koppelen aan de category codes"
   ]
  },
  {
   "cell_type": "code",
   "execution_count": null,
   "id": "0efc654d",
   "metadata": {},
   "outputs": [],
   "source": [
    "dfGrootboek = pd.read_csv(grootboek)\n",
    "dfGrootboek.rename(columns={'Code':'category'}, inplace = True)"
   ]
  },
  {
   "cell_type": "code",
   "execution_count": null,
   "id": "4b3ea504",
   "metadata": {},
   "outputs": [],
   "source": [
    "dfIn=dfIn.merge(dfGrootboek, how=\"left\", on=\"category\")"
   ]
  },
  {
   "cell_type": "markdown",
   "id": "b5c6fd0f",
   "metadata": {},
   "source": [
    "#### Benodigde Pivot tables maken van de geldstromen/grootboek/kleinboek\n",
    "\n",
    "We houden de interne kasstromen (vestzak-broekzak) erbuiten"
   ]
  },
  {
   "cell_type": "code",
   "execution_count": null,
   "id": "8c9ffe57",
   "metadata": {},
   "outputs": [],
   "source": [
    "dfPivot=dfIn.loc[(~dfIn['cashflow'].str.contains(cashflow[7]))]\n",
    "#dfPivot.to_csv(DebugDir + \"dfPivot.csv\")\n",
    "#dfPivot.head()\n"
   ]
  },
  {
   "cell_type": "code",
   "execution_count": null,
   "id": "6036ea19",
   "metadata": {},
   "outputs": [],
   "source": [
    "\n",
    "# Cashflow op maand basis\n",
    "pivot_table1 = pd.pivot_table(dfPivot, values='amount', index=['cashflow'],columns=['month'], aggfunc='sum',\n",
    "                      fill_value=0, margins=True)\n",
    "                      \n",
    "#Cashflow op jaar basis op jaarbasis exclusief vestzak broekzak (niet erg interessant)\n",
    "pivot_table2 = pd.pivot_table(dfPivot, values='amount', index=['cashflow'],columns=['year'], aggfunc='sum',\n",
    "                      fill_value=0, margins=False)\n",
    "\n",
    "# Grootboek op jaarbasis exclusief vestzak broekzak\n",
    "pivot_table3 = pd.pivot_table(dfPivot, values='amount', index=['Grootboek','Kleinboek'],columns=['month'], aggfunc='sum',\n",
    "                      fill_value=0, margins=True)"
   ]
  },
  {
   "cell_type": "markdown",
   "id": "f26dc5d1",
   "metadata": {},
   "source": [
    "### Files ingelezen en grootboek categorieen toegevoegd "
   ]
  },
  {
   "cell_type": "markdown",
   "id": "f886a949",
   "metadata": {},
   "source": [
    "### Debug output\n"
   ]
  },
  {
   "cell_type": "code",
   "execution_count": null,
   "id": "f467cfe6",
   "metadata": {},
   "outputs": [],
   "source": [
    "# Alles wat nog geen grootboek code heeft gehad wordt even apart in een file gezet \n",
    "\n",
    "dfUitDebug=dfIn.loc[(dfIn['category'].str.contains('--'))]\n",
    "dfUitDebug = dfUitDebug[['account','Datum','balance','year','month',\n",
    "'tegenrekening','Naam tegenpartij',\n",
    "'description','amount','Volgnr','category','cashflow']]\n",
    "\n",
    "completed = False\n",
    "if len(dfUitDebug) >0 :\n",
    "    dfUitDebug.to_csv(uitDebugFile)\n",
    "else:\n",
    "    # Write empty dataframe and give a message in the filename\n",
    "    completed = True\n",
    "    dfUitDebug.to_csv(OutputDir + \"volgnr.completed\")\n"
   ]
  },
  {
   "cell_type": "markdown",
   "id": "0dc36b21",
   "metadata": {},
   "source": [
    "\n",
    "\n",
    "\n",
    "## Uitvoer"
   ]
  },
  {
   "cell_type": "code",
   "execution_count": null,
   "id": "321425da",
   "metadata": {},
   "outputs": [],
   "source": [
    "dfIn=dfIn[['account','Munt','BIC','Volgnr','Datum','Rentedatum','amount','balance',\n",
    "'tegenrekening','Naam tegenpartij','Naam uiteindelijke partij','Naam initiërende partij',\n",
    "'BIC tegenpartij','Code','Transactiereferentie','Machtigingskenmerk','Incassant ID','Betalingskenmerk',\n",
    "'description','Koers','year','month','category','Grootboek','Kleinboek','cashflow']]\n"
   ]
  },
  {
   "cell_type": "code",
   "execution_count": null,
   "id": "138b0db5",
   "metadata": {},
   "outputs": [],
   "source": [
    "# Create a Pandas Excel writer using XlsxWriter as the engine.\n",
    "if completed:\n",
    "    writer = pd.ExcelWriter(Uitvoerfile, engine='xlsxwriter',datetime_format='yyyy mm dd', date_format='yyyy mm dd')\n",
    "else:\n",
    "    writer = pd.ExcelWriter(UitvoerfilePartial, engine='xlsxwriter',datetime_format='yyyy mm dd', date_format='yyyy mm dd')\n",
    "  "
   ]
  },
  {
   "cell_type": "code",
   "execution_count": null,
   "id": "ad207908",
   "metadata": {},
   "outputs": [],
   "source": [
    "  \n",
    "#dfIn=dfIn.style.set_properties(**{'text-align': 'left'})"
   ]
  },
  {
   "cell_type": "code",
   "execution_count": null,
   "id": "35cf241d",
   "metadata": {},
   "outputs": [],
   "source": [
    "# Wegschrijven naar Excel ongeformatteerd\n",
    "dfIn.to_excel(writer, sheet_name='0-master', index = False )\n"
   ]
  },
  {
   "cell_type": "code",
   "execution_count": null,
   "id": "ff11a257",
   "metadata": {},
   "outputs": [],
   "source": [
    "# Get the xlsxwriter workbook and worksheet objects.\n",
    "workbook  = writer.book\n",
    "worksheet = writer.sheets['0-master']"
   ]
  },
  {
   "cell_type": "code",
   "execution_count": null,
   "id": "67eb7744",
   "metadata": {},
   "outputs": [],
   "source": [
    "# Get the dimensions of the dataframe\n",
    "(max_row, max_col) = dfIn.shape\n",
    "\n",
    "# Create a list of column headers, to use in add_table()\n",
    "column_settings = [{'header': column} for column in dfIn.columns]\n",
    "\n",
    "# Add the Excel table structure. Pandas will add the data.\n",
    "worksheet.add_table(0, 0, max_row, max_col - 1, {'columns': column_settings})"
   ]
  },
  {
   "cell_type": "code",
   "execution_count": null,
   "id": "392aedc7",
   "metadata": {},
   "outputs": [],
   "source": [
    "# Add some cell formats.\n",
    "# Datum jjjj-mm-dd;@\n",
    "# Currency € #,##0.00\n",
    "# Getal 0\n",
    "\n",
    "formatCur = workbook.add_format({'num_format': '€ #,##0.00'})\n",
    "formatDate = workbook.add_format({'num_format': 'jjjj-mm-dd;@'})\n",
    "formatBold =  workbook.add_format()\n",
    "#formatBold =  workbook.add_format({'bold': True})\n",
    "formatBold.set_align('left')\n",
    "\n",
    "#formatInt = workbook.add_format({'num_format': '0'})"
   ]
  },
  {
   "cell_type": "code",
   "execution_count": null,
   "id": "99b1f377",
   "metadata": {},
   "outputs": [],
   "source": [
    "# Zet de format op de kolommen\n",
    "# worksheet.set_column('G:XFD', None, None, {'hidden': True})\n",
    "worksheet.set_column(0, 0, 19)\n",
    "worksheet.set_column(2, 2, 9)\n",
    "worksheet.set_column(4, 5, 12)\n",
    "worksheet.set_column(6, 7, 12, formatCur)\n",
    "worksheet.set_column(8, 8, 23)\n",
    "worksheet.set_column(9, 9, 50)\n",
    "worksheet.set_column(10, 10, 20, None, {'hidden': True})\n",
    "worksheet.set_column(11, 11, 32, None, {'hidden': True})\n",
    "worksheet.set_column(12, 12, 12)\n",
    "worksheet.set_column(13, 13, 8)\n",
    "worksheet.set_column(14, 14, 37, None, {'hidden': True})\n",
    "worksheet.set_column(15, 15, 36, None, {'hidden': True})\n",
    "worksheet.set_column(16, 16, 30, None, {'hidden': True})\n",
    "worksheet.set_column(17, 17, 15, None, {'hidden': True})\n",
    "worksheet.set_column(18, 18, 110)\n",
    "worksheet.set_column(19, 19, 15, None, {'hidden': True})\n",
    "worksheet.set_column(23, 23, 14)\n",
    "worksheet.set_column(24, 24, 27)\n",
    "worksheet.set_column(25, 25, 15)"
   ]
  },
  {
   "cell_type": "markdown",
   "id": "f0519e9f",
   "metadata": {},
   "source": [
    "### Ad format to the pivot and add them to the excel file as seperate sheets"
   ]
  },
  {
   "cell_type": "code",
   "execution_count": null,
   "id": "e4d6dfc4",
   "metadata": {},
   "outputs": [],
   "source": [
    "# Wegschrijven van de pivots naar dezelfde Excelfile \n",
    "pivot_table1.to_excel(writer, sheet_name='1-Pivot', index = True )\n",
    "#pivot_table2.to_excel(writer, sheet_name='2-Pivot', index = True )\n",
    "pivot_table3.to_excel(writer, sheet_name='3-Pivot', index = True )"
   ]
  },
  {
   "cell_type": "code",
   "execution_count": null,
   "id": "95f42658",
   "metadata": {},
   "outputs": [],
   "source": [
    "worksheet = writer.sheets['3-Pivot']\n",
    "worksheet.set_column(0, 0, 20,formatBold)   # Bold en left Werkt niet op de index kolommen\n",
    "worksheet.set_column(1, 1, 30,formatBold)   # Bold en left Werkt niet op de index kolommen\n",
    "for col in range(2,15):\n",
    "    worksheet.set_column(col, col, 13, formatCur)"
   ]
  },
  {
   "cell_type": "code",
   "execution_count": null,
   "id": "a6343732",
   "metadata": {},
   "outputs": [],
   "source": [
    "worksheet = writer.sheets['1-Pivot']\n",
    "worksheet.set_column(0, 0, 20,formatBold)   # Bold en left Werkt niet op de index kolommen\n",
    "for col in range(1,14):\n",
    "    worksheet.set_column(col, col, 13, formatCur)"
   ]
  },
  {
   "cell_type": "markdown",
   "id": "726da7e0",
   "metadata": {},
   "source": [
    "### Sheets for saldo verloop"
   ]
  },
  {
   "cell_type": "code",
   "execution_count": null,
   "id": "5d579ee9",
   "metadata": {},
   "outputs": [],
   "source": [
    "\n",
    "for rekening in Eigen_rekeningen:\n",
    "    #worksheet = writer.sheets[rekening]\n",
    "    dfUit = dfIn.loc[(dfIn['account'].str.contains(rekening)), ['account','Datum','amount','balance']]\n",
    "    dfUit.to_excel(writer, sheet_name=rekening, index = True )\n",
    "    worksheet = writer.sheets[rekening]\n",
    "    worksheet.set_column(1, 1, 20)\n",
    "    worksheet.set_column(2, 2, 15)\n",
    "    worksheet.set_column(3, 3, 13, formatCur)\n",
    "    worksheet.set_column(4, 4, 13, formatCur)\n",
    "    \n",
    "    "
   ]
  },
  {
   "cell_type": "code",
   "execution_count": null,
   "id": "809b6710",
   "metadata": {},
   "outputs": [],
   "source": []
  },
  {
   "cell_type": "code",
   "execution_count": null,
   "id": "7d11ad04",
   "metadata": {},
   "outputs": [],
   "source": [
    "# Close the Pandas Excel writer and output the Excel file.\n",
    "writer.close()"
   ]
  },
  {
   "cell_type": "code",
   "execution_count": null,
   "id": "dcde4e04",
   "metadata": {},
   "outputs": [],
   "source": []
  }
 ],
 "metadata": {
  "kernelspec": {
   "display_name": "Python 3.9.7 ('base')",
   "language": "python",
   "name": "python3"
  },
  "language_info": {
   "codemirror_mode": {
    "name": "ipython",
    "version": 3
   },
   "file_extension": ".py",
   "mimetype": "text/x-python",
   "name": "python",
   "nbconvert_exporter": "python",
   "pygments_lexer": "ipython3",
   "version": "3.11.5"
  },
  "vscode": {
   "interpreter": {
    "hash": "8a15cc52a68eeac192ffee682cfaa0bb2433155ddbd157e564844e4a77c3443e"
   }
  }
 },
 "nbformat": 4,
 "nbformat_minor": 5
}
